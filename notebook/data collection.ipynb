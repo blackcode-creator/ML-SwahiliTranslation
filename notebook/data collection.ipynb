{
 "cells": [
  {
   "cell_type": "markdown",
   "metadata": {
    "id": "hMm0DT29BgLN"
   },
   "source": [
    "#### 1.1 Importing necessary libraries"
   ]
  },
  {
   "cell_type": "code",
   "execution_count": 2,
   "metadata": {
    "id": "F6a3DJkXBnj8"
   },
   "outputs": [],
   "source": [
    "import pandas as pd"
   ]
  },
  {
   "cell_type": "markdown",
   "metadata": {
    "id": "kWA5kEmMq_yh"
   },
   "source": [
    "#### 1.2 Reading the TSV file"
   ]
  },
  {
   "cell_type": "code",
   "execution_count": 3,
   "metadata": {
    "id": "tIjQW7CrrK_V"
   },
   "outputs": [],
   "source": [
    "df = pd.read_csv('../dataset/envsw.tsv', sep=r'\\t', engine='python', header=None)"
   ]
  },
  {
   "cell_type": "markdown",
   "metadata": {
    "id": "rGlNHXJB8Qp1"
   },
   "source": [
    "#### 1.3 viewing the dataset"
   ]
  },
  {
   "cell_type": "code",
   "execution_count": 4,
   "metadata": {
    "colab": {
     "base_uri": "https://localhost:8080/",
     "height": 206
    },
    "id": "vbK9_Xfv2RCo",
    "outputId": "6e869b4b-8a8d-4314-c4aa-46ee3546ab34"
   },
   "outputs": [
    {
     "data": {
      "text/html": [
       "<div>\n",
       "<style scoped>\n",
       "    .dataframe tbody tr th:only-of-type {\n",
       "        vertical-align: middle;\n",
       "    }\n",
       "\n",
       "    .dataframe tbody tr th {\n",
       "        vertical-align: top;\n",
       "    }\n",
       "\n",
       "    .dataframe thead th {\n",
       "        text-align: right;\n",
       "    }\n",
       "</style>\n",
       "<table border=\"1\" class=\"dataframe\">\n",
       "  <thead>\n",
       "    <tr style=\"text-align: right;\">\n",
       "      <th></th>\n",
       "      <th>0</th>\n",
       "      <th>1</th>\n",
       "      <th>2</th>\n",
       "      <th>3</th>\n",
       "    </tr>\n",
       "  </thead>\n",
       "  <tbody>\n",
       "    <tr>\n",
       "      <th>0</th>\n",
       "      <td>1326</td>\n",
       "      <td>Are you sure?</td>\n",
       "      <td>3653235</td>\n",
       "      <td>Je, una uhakika?</td>\n",
       "    </tr>\n",
       "    <tr>\n",
       "      <th>1</th>\n",
       "      <td>1434</td>\n",
       "      <td>I love you.</td>\n",
       "      <td>369350</td>\n",
       "      <td>Nakupenda.</td>\n",
       "    </tr>\n",
       "    <tr>\n",
       "      <th>2</th>\n",
       "      <td>1631</td>\n",
       "      <td>This is my friend Rachel. We went to high scho...</td>\n",
       "      <td>3324344</td>\n",
       "      <td>Huyu ni rafiki yangu Rachel. Tulikwenda pamoja...</td>\n",
       "    </tr>\n",
       "    <tr>\n",
       "      <th>3</th>\n",
       "      <td>1712</td>\n",
       "      <td>I have a headache.</td>\n",
       "      <td>842637</td>\n",
       "      <td>Kichwa kinauma.</td>\n",
       "    </tr>\n",
       "    <tr>\n",
       "      <th>4</th>\n",
       "      <td>1775</td>\n",
       "      <td>Where there's a will, there's a way.</td>\n",
       "      <td>562906</td>\n",
       "      <td>Penye nia, pana njia.</td>\n",
       "    </tr>\n",
       "  </tbody>\n",
       "</table>\n",
       "</div>"
      ],
      "text/plain": [
       "      0                                                  1        2  \\\n",
       "0  1326                                      Are you sure?  3653235   \n",
       "1  1434                                        I love you.   369350   \n",
       "2  1631  This is my friend Rachel. We went to high scho...  3324344   \n",
       "3  1712                                 I have a headache.   842637   \n",
       "4  1775               Where there's a will, there's a way.   562906   \n",
       "\n",
       "                                                   3  \n",
       "0                                   Je, una uhakika?  \n",
       "1                                         Nakupenda.  \n",
       "2  Huyu ni rafiki yangu Rachel. Tulikwenda pamoja...  \n",
       "3                                    Kichwa kinauma.  \n",
       "4                              Penye nia, pana njia.  "
      ]
     },
     "execution_count": 4,
     "metadata": {},
     "output_type": "execute_result"
    }
   ],
   "source": [
    "df.head()"
   ]
  },
  {
   "cell_type": "markdown",
   "metadata": {
    "id": "_DwQt5T-EKEx"
   },
   "source": [
    "#### 1.4 Setting  header to the TSV file"
   ]
  },
  {
   "cell_type": "code",
   "execution_count": 5,
   "metadata": {
    "id": "nwUF9egkENpX"
   },
   "outputs": [],
   "source": [
    "df.columns = ['engIndex', 'English sentence', 'swIndex', 'Swahili Translation']"
   ]
  },
  {
   "cell_type": "markdown",
   "metadata": {},
   "source": [
    "#### 1.5 Viewing our dataset after adding columns"
   ]
  },
  {
   "cell_type": "code",
   "execution_count": 6,
   "metadata": {
    "colab": {
     "base_uri": "https://localhost:8080/",
     "height": 206
    },
    "id": "wzG_0lYAEidE",
    "outputId": "805d65af-a2fb-4f0c-e90b-dd5dbbc2ff37"
   },
   "outputs": [
    {
     "data": {
      "text/html": [
       "<div>\n",
       "<style scoped>\n",
       "    .dataframe tbody tr th:only-of-type {\n",
       "        vertical-align: middle;\n",
       "    }\n",
       "\n",
       "    .dataframe tbody tr th {\n",
       "        vertical-align: top;\n",
       "    }\n",
       "\n",
       "    .dataframe thead th {\n",
       "        text-align: right;\n",
       "    }\n",
       "</style>\n",
       "<table border=\"1\" class=\"dataframe\">\n",
       "  <thead>\n",
       "    <tr style=\"text-align: right;\">\n",
       "      <th></th>\n",
       "      <th>engIndex</th>\n",
       "      <th>English sentence</th>\n",
       "      <th>swIndex</th>\n",
       "      <th>Swahili Translation</th>\n",
       "    </tr>\n",
       "  </thead>\n",
       "  <tbody>\n",
       "    <tr>\n",
       "      <th>4348</th>\n",
       "      <td>8023644</td>\n",
       "      <td>That's Sasha's house. She's lived there for de...</td>\n",
       "      <td>10898662</td>\n",
       "      <td>Hiyo ni nyumba ya Sasha. Aliishi huko kwa mion...</td>\n",
       "    </tr>\n",
       "    <tr>\n",
       "      <th>4349</th>\n",
       "      <td>8603213</td>\n",
       "      <td>Persons of Anglo-Saxon or German origin are co...</td>\n",
       "      <td>10898776</td>\n",
       "      <td>Watu wenye asili ya Kianglo-Saxon au ya Kijeru...</td>\n",
       "    </tr>\n",
       "    <tr>\n",
       "      <th>4350</th>\n",
       "      <td>11483210</td>\n",
       "      <td>She decided to move to Belgium.</td>\n",
       "      <td>11490946</td>\n",
       "      <td>Aliamua kuhamia Ubelgiji.</td>\n",
       "    </tr>\n",
       "    <tr>\n",
       "      <th>4351</th>\n",
       "      <td>11475869</td>\n",
       "      <td>Do you watch the news?</td>\n",
       "      <td>11490948</td>\n",
       "      <td>Je, unatazama habari?</td>\n",
       "    </tr>\n",
       "    <tr>\n",
       "      <th>4352</th>\n",
       "      <td>4495519</td>\n",
       "      <td>Can you afford that?</td>\n",
       "      <td>11490949</td>\n",
       "      <td>Je, unaweza kumudu?</td>\n",
       "    </tr>\n",
       "  </tbody>\n",
       "</table>\n",
       "</div>"
      ],
      "text/plain": [
       "      engIndex                                   English sentence   swIndex  \\\n",
       "4348   8023644  That's Sasha's house. She's lived there for de...  10898662   \n",
       "4349   8603213  Persons of Anglo-Saxon or German origin are co...  10898776   \n",
       "4350  11483210                    She decided to move to Belgium.  11490946   \n",
       "4351  11475869                             Do you watch the news?  11490948   \n",
       "4352   4495519                               Can you afford that?  11490949   \n",
       "\n",
       "                                    Swahili Translation  \n",
       "4348  Hiyo ni nyumba ya Sasha. Aliishi huko kwa mion...  \n",
       "4349  Watu wenye asili ya Kianglo-Saxon au ya Kijeru...  \n",
       "4350                          Aliamua kuhamia Ubelgiji.  \n",
       "4351                              Je, unatazama habari?  \n",
       "4352                                Je, unaweza kumudu?  "
      ]
     },
     "execution_count": 6,
     "metadata": {},
     "output_type": "execute_result"
    }
   ],
   "source": [
    "df.tail()"
   ]
  },
  {
   "cell_type": "markdown",
   "metadata": {},
   "source": [
    "##### 1.6 Dropping the unnecessary columns"
   ]
  },
  {
   "cell_type": "code",
   "execution_count": 7,
   "metadata": {
    "id": "UVWqJ4D6Elg2"
   },
   "outputs": [],
   "source": [
    "df = df.drop(['swIndex', 'engIndex'], axis=1)"
   ]
  },
  {
   "cell_type": "markdown",
   "metadata": {},
   "source": [
    "##### 1.7 Viewing the dataset after dropping the columns"
   ]
  },
  {
   "cell_type": "code",
   "execution_count": 8,
   "metadata": {},
   "outputs": [
    {
     "data": {
      "text/html": [
       "<div>\n",
       "<style scoped>\n",
       "    .dataframe tbody tr th:only-of-type {\n",
       "        vertical-align: middle;\n",
       "    }\n",
       "\n",
       "    .dataframe tbody tr th {\n",
       "        vertical-align: top;\n",
       "    }\n",
       "\n",
       "    .dataframe thead th {\n",
       "        text-align: right;\n",
       "    }\n",
       "</style>\n",
       "<table border=\"1\" class=\"dataframe\">\n",
       "  <thead>\n",
       "    <tr style=\"text-align: right;\">\n",
       "      <th></th>\n",
       "      <th>English sentence</th>\n",
       "      <th>Swahili Translation</th>\n",
       "    </tr>\n",
       "  </thead>\n",
       "  <tbody>\n",
       "    <tr>\n",
       "      <th>0</th>\n",
       "      <td>Are you sure?</td>\n",
       "      <td>Je, una uhakika?</td>\n",
       "    </tr>\n",
       "    <tr>\n",
       "      <th>1</th>\n",
       "      <td>I love you.</td>\n",
       "      <td>Nakupenda.</td>\n",
       "    </tr>\n",
       "    <tr>\n",
       "      <th>2</th>\n",
       "      <td>This is my friend Rachel. We went to high scho...</td>\n",
       "      <td>Huyu ni rafiki yangu Rachel. Tulikwenda pamoja...</td>\n",
       "    </tr>\n",
       "    <tr>\n",
       "      <th>3</th>\n",
       "      <td>I have a headache.</td>\n",
       "      <td>Kichwa kinauma.</td>\n",
       "    </tr>\n",
       "    <tr>\n",
       "      <th>4</th>\n",
       "      <td>Where there's a will, there's a way.</td>\n",
       "      <td>Penye nia, pana njia.</td>\n",
       "    </tr>\n",
       "  </tbody>\n",
       "</table>\n",
       "</div>"
      ],
      "text/plain": [
       "                                    English sentence  \\\n",
       "0                                      Are you sure?   \n",
       "1                                        I love you.   \n",
       "2  This is my friend Rachel. We went to high scho...   \n",
       "3                                 I have a headache.   \n",
       "4               Where there's a will, there's a way.   \n",
       "\n",
       "                                 Swahili Translation  \n",
       "0                                   Je, una uhakika?  \n",
       "1                                         Nakupenda.  \n",
       "2  Huyu ni rafiki yangu Rachel. Tulikwenda pamoja...  \n",
       "3                                    Kichwa kinauma.  \n",
       "4                              Penye nia, pana njia.  "
      ]
     },
     "execution_count": 8,
     "metadata": {},
     "output_type": "execute_result"
    }
   ],
   "source": [
    "df.head()"
   ]
  },
  {
   "cell_type": "markdown",
   "metadata": {},
   "source": [
    "#### 1.8 Exporting the first version of our dataset"
   ]
  },
  {
   "cell_type": "code",
   "execution_count": 9,
   "metadata": {},
   "outputs": [],
   "source": [
    "# df.to_csv(\"../dataset/ensw-v1.csv\", index=False)"
   ]
  },
  {
   "cell_type": "markdown",
   "metadata": {},
   "source": [
    "#### 1.9 Concatenate two files eng.txt and sw.txt\n",
    "We are loading the pairs\n",
    "\n",
    "    - english text\n",
    "    - Swahili text"
   ]
  },
  {
   "cell_type": "code",
   "execution_count": 10,
   "metadata": {},
   "outputs": [],
   "source": [
    "eng = pd.read_csv('../dataset/pairs/en.txt', sep=r'\\t', engine='python', header=None)"
   ]
  },
  {
   "cell_type": "code",
   "execution_count": 11,
   "metadata": {},
   "outputs": [],
   "source": [
    "sw = pd.read_csv('../dataset/pairs/sw.txt', sep=r'\\t', engine='python', header=None)"
   ]
  },
  {
   "cell_type": "code",
   "execution_count": 12,
   "metadata": {},
   "outputs": [
    {
     "data": {
      "text/plain": [
       "(229312, 1)"
      ]
     },
     "execution_count": 12,
     "metadata": {},
     "output_type": "execute_result"
    }
   ],
   "source": [
    "# confirm the length of the text\n",
    "eng.shape"
   ]
  },
  {
   "cell_type": "code",
   "execution_count": 13,
   "metadata": {},
   "outputs": [
    {
     "data": {
      "text/plain": [
       "(229312, 1)"
      ]
     },
     "execution_count": 13,
     "metadata": {},
     "output_type": "execute_result"
    }
   ],
   "source": [
    "# confirm the length of the text\n",
    "sw.shape"
   ]
  },
  {
   "cell_type": "markdown",
   "metadata": {},
   "source": [
    "#### 2.0 concatenating the pairs horizontally"
   ]
  },
  {
   "cell_type": "code",
   "execution_count": 14,
   "metadata": {},
   "outputs": [],
   "source": [
    "engsw = pd.concat([eng, sw], axis=1)"
   ]
  },
  {
   "cell_type": "markdown",
   "metadata": {},
   "source": [
    "#### 2.1 Viewing the dataset after concatenating "
   ]
  },
  {
   "cell_type": "code",
   "execution_count": 15,
   "metadata": {},
   "outputs": [
    {
     "data": {
      "text/html": [
       "<div>\n",
       "<style scoped>\n",
       "    .dataframe tbody tr th:only-of-type {\n",
       "        vertical-align: middle;\n",
       "    }\n",
       "\n",
       "    .dataframe tbody tr th {\n",
       "        vertical-align: top;\n",
       "    }\n",
       "\n",
       "    .dataframe thead th {\n",
       "        text-align: right;\n",
       "    }\n",
       "</style>\n",
       "<table border=\"1\" class=\"dataframe\">\n",
       "  <thead>\n",
       "    <tr style=\"text-align: right;\">\n",
       "      <th></th>\n",
       "      <th>0</th>\n",
       "      <th>0</th>\n",
       "    </tr>\n",
       "  </thead>\n",
       "  <tbody>\n",
       "    <tr>\n",
       "      <th>0</th>\n",
       "      <td>Zacharakis Studios</td>\n",
       "      <td>Zacharakis Studios</td>\n",
       "    </tr>\n",
       "    <tr>\n",
       "      <th>1</th>\n",
       "      <td>Carma</td>\n",
       "      <td>Karma</td>\n",
       "    </tr>\n",
       "    <tr>\n",
       "      <th>2</th>\n",
       "      <td>It is of no significance whatsoever to me!\"</td>\n",
       "      <td>Haina umuhimu wowote kwangu!\"</td>\n",
       "    </tr>\n",
       "    <tr>\n",
       "      <th>3</th>\n",
       "      <td>No.001: black</td>\n",
       "      <td>Nambari 001: nyeusi</td>\n",
       "    </tr>\n",
       "    <tr>\n",
       "      <th>4</th>\n",
       "      <td>If its weight loss, what will you do?</td>\n",
       "      <td>Ikiwa uzito umepungua, utafanya nini?</td>\n",
       "    </tr>\n",
       "    <tr>\n",
       "      <th>...</th>\n",
       "      <td>...</td>\n",
       "      <td>...</td>\n",
       "    </tr>\n",
       "    <tr>\n",
       "      <th>229307</th>\n",
       "      <td>I just go to the next page found by Google and...</td>\n",
       "      <td>Ninaenda tu kwenye ukurasa unaofuata uliopatik...</td>\n",
       "    </tr>\n",
       "    <tr>\n",
       "      <th>229308</th>\n",
       "      <td>If someone who doesn't know your background sa...</td>\n",
       "      <td>Ikiwa mtu ambaye hajui historia yako anasema u...</td>\n",
       "    </tr>\n",
       "    <tr>\n",
       "      <th>229309</th>\n",
       "      <td>In other words, you don't really sound like a ...</td>\n",
       "      <td>Kwa maneno mengine, hausikiki kama mzungumzaji...</td>\n",
       "    </tr>\n",
       "    <tr>\n",
       "      <th>229310</th>\n",
       "      <td>It may be impossible to get a completely error...</td>\n",
       "      <td>Huenda isiwezekane kupata kundi lisilo na hiti...</td>\n",
       "    </tr>\n",
       "    <tr>\n",
       "      <th>229311</th>\n",
       "      <td>However, if we encourage members to contribute...</td>\n",
       "      <td>Hata hivyo, ikiwa tunawahimiza washiriki kucha...</td>\n",
       "    </tr>\n",
       "  </tbody>\n",
       "</table>\n",
       "<p>229312 rows × 2 columns</p>\n",
       "</div>"
      ],
      "text/plain": [
       "                                                        0  \\\n",
       "0                                      Zacharakis Studios   \n",
       "1                                                   Carma   \n",
       "2             It is of no significance whatsoever to me!\"   \n",
       "3                                           No.001: black   \n",
       "4                   If its weight loss, what will you do?   \n",
       "...                                                   ...   \n",
       "229307  I just go to the next page found by Google and...   \n",
       "229308  If someone who doesn't know your background sa...   \n",
       "229309  In other words, you don't really sound like a ...   \n",
       "229310  It may be impossible to get a completely error...   \n",
       "229311  However, if we encourage members to contribute...   \n",
       "\n",
       "                                                        0  \n",
       "0                                      Zacharakis Studios  \n",
       "1                                                   Karma  \n",
       "2                           Haina umuhimu wowote kwangu!\"  \n",
       "3                                     Nambari 001: nyeusi  \n",
       "4                   Ikiwa uzito umepungua, utafanya nini?  \n",
       "...                                                   ...  \n",
       "229307  Ninaenda tu kwenye ukurasa unaofuata uliopatik...  \n",
       "229308  Ikiwa mtu ambaye hajui historia yako anasema u...  \n",
       "229309  Kwa maneno mengine, hausikiki kama mzungumzaji...  \n",
       "229310  Huenda isiwezekane kupata kundi lisilo na hiti...  \n",
       "229311  Hata hivyo, ikiwa tunawahimiza washiriki kucha...  \n",
       "\n",
       "[229312 rows x 2 columns]"
      ]
     },
     "execution_count": 15,
     "metadata": {},
     "output_type": "execute_result"
    }
   ],
   "source": [
    "engsw"
   ]
  },
  {
   "cell_type": "markdown",
   "metadata": {},
   "source": [
    "#### 2.2 Exporting the dataset as csv file after concatenating"
   ]
  },
  {
   "cell_type": "code",
   "execution_count": 16,
   "metadata": {},
   "outputs": [],
   "source": [
    "# engsw.to_csv(\"../dataset/ensw-v2.csv\", index=False)"
   ]
  },
  {
   "cell_type": "markdown",
   "metadata": {},
   "source": [
    "#### 2.3 Loading the v1, v2 and v3 dataset to concat"
   ]
  },
  {
   "cell_type": "code",
   "execution_count": 26,
   "metadata": {},
   "outputs": [],
   "source": [
    "df_1 = pd.read_csv('../dataset/ensw-v1.csv', header=None)"
   ]
  },
  {
   "cell_type": "code",
   "execution_count": 27,
   "metadata": {},
   "outputs": [],
   "source": [
    "df_2 = pd.read_csv('../dataset/ensw-v2.csv', header=None)"
   ]
  },
  {
   "cell_type": "code",
   "execution_count": 28,
   "metadata": {},
   "outputs": [],
   "source": [
    "df_3 = pd.read_csv('../dataset/ensw-v3.csv', header=None)"
   ]
  },
  {
   "cell_type": "markdown",
   "metadata": {},
   "source": [
    "#### 2.4 Concatenating v1, v2 and v3 vertically"
   ]
  },
  {
   "cell_type": "code",
   "execution_count": 29,
   "metadata": {},
   "outputs": [],
   "source": [
    "combined_engsw = pd.concat([df_1,df_2,df_3], axis=0)"
   ]
  },
  {
   "cell_type": "markdown",
   "metadata": {},
   "source": [
    "#### 2.5 Naming the columns"
   ]
  },
  {
   "cell_type": "code",
   "execution_count": 33,
   "metadata": {},
   "outputs": [],
   "source": [
    "combined_engsw.columns = ['English sentence', 'Swahili Translation']"
   ]
  },
  {
   "cell_type": "markdown",
   "metadata": {},
   "source": [
    "#### 2.6 Viewing the combined that dataset"
   ]
  },
  {
   "cell_type": "code",
   "execution_count": 39,
   "metadata": {},
   "outputs": [
    {
     "data": {
      "text/html": [
       "<div>\n",
       "<style scoped>\n",
       "    .dataframe tbody tr th:only-of-type {\n",
       "        vertical-align: middle;\n",
       "    }\n",
       "\n",
       "    .dataframe tbody tr th {\n",
       "        vertical-align: top;\n",
       "    }\n",
       "\n",
       "    .dataframe thead th {\n",
       "        text-align: right;\n",
       "    }\n",
       "</style>\n",
       "<table border=\"1\" class=\"dataframe\">\n",
       "  <thead>\n",
       "    <tr style=\"text-align: right;\">\n",
       "      <th></th>\n",
       "      <th>English sentence</th>\n",
       "      <th>Swahili Translation</th>\n",
       "    </tr>\n",
       "  </thead>\n",
       "  <tbody>\n",
       "    <tr>\n",
       "      <th>0</th>\n",
       "      <td>English sentence</td>\n",
       "      <td>Swahili Translation</td>\n",
       "    </tr>\n",
       "    <tr>\n",
       "      <th>1</th>\n",
       "      <td>Are you sure?</td>\n",
       "      <td>Je, una uhakika?</td>\n",
       "    </tr>\n",
       "    <tr>\n",
       "      <th>2</th>\n",
       "      <td>I love you.</td>\n",
       "      <td>Nakupenda.</td>\n",
       "    </tr>\n",
       "    <tr>\n",
       "      <th>3</th>\n",
       "      <td>This is my friend Rachel. We went to high scho...</td>\n",
       "      <td>Huyu ni rafiki yangu Rachel. Tulikwenda pamoja...</td>\n",
       "    </tr>\n",
       "    <tr>\n",
       "      <th>4</th>\n",
       "      <td>I have a headache.</td>\n",
       "      <td>Kichwa kinauma.</td>\n",
       "    </tr>\n",
       "    <tr>\n",
       "      <th>...</th>\n",
       "      <td>...</td>\n",
       "      <td>...</td>\n",
       "    </tr>\n",
       "    <tr>\n",
       "      <th>8488</th>\n",
       "      <td>I wish I had stayed at my parents' home.</td>\n",
       "      <td>Natamani ningekaa nyumbani kwa wazazi wangu.</td>\n",
       "    </tr>\n",
       "    <tr>\n",
       "      <th>8489</th>\n",
       "      <td>All the children were avoiding him because he ...</td>\n",
       "      <td>Watoto wote walikuwa wakimzuia kwa sababu alik...</td>\n",
       "    </tr>\n",
       "    <tr>\n",
       "      <th>8490</th>\n",
       "      <td>The school is so big.</td>\n",
       "      <td>Shule ni kubwa sana.</td>\n",
       "    </tr>\n",
       "    <tr>\n",
       "      <th>8491</th>\n",
       "      <td>When reporting to school all children must ent...</td>\n",
       "      <td>Wakati wa kuripoti shuleni watoto wote lazima ...</td>\n",
       "    </tr>\n",
       "    <tr>\n",
       "      <th>8492</th>\n",
       "      <td>My mother teaches primary one class.</td>\n",
       "      <td>Mama yangu hufundisha darasa la msingi.</td>\n",
       "    </tr>\n",
       "  </tbody>\n",
       "</table>\n",
       "<p>242160 rows × 2 columns</p>\n",
       "</div>"
      ],
      "text/plain": [
       "                                       English sentence  \\\n",
       "0                                      English sentence   \n",
       "1                                         Are you sure?   \n",
       "2                                           I love you.   \n",
       "3     This is my friend Rachel. We went to high scho...   \n",
       "4                                    I have a headache.   \n",
       "...                                                 ...   \n",
       "8488           I wish I had stayed at my parents' home.   \n",
       "8489  All the children were avoiding him because he ...   \n",
       "8490                              The school is so big.   \n",
       "8491  When reporting to school all children must ent...   \n",
       "8492               My mother teaches primary one class.   \n",
       "\n",
       "                                    Swahili Translation  \n",
       "0                                   Swahili Translation  \n",
       "1                                      Je, una uhakika?  \n",
       "2                                            Nakupenda.  \n",
       "3     Huyu ni rafiki yangu Rachel. Tulikwenda pamoja...  \n",
       "4                                       Kichwa kinauma.  \n",
       "...                                                 ...  \n",
       "8488       Natamani ningekaa nyumbani kwa wazazi wangu.  \n",
       "8489  Watoto wote walikuwa wakimzuia kwa sababu alik...  \n",
       "8490                               Shule ni kubwa sana.  \n",
       "8491  Wakati wa kuripoti shuleni watoto wote lazima ...  \n",
       "8492            Mama yangu hufundisha darasa la msingi.  \n",
       "\n",
       "[242160 rows x 2 columns]"
      ]
     },
     "execution_count": 39,
     "metadata": {},
     "output_type": "execute_result"
    }
   ],
   "source": [
    "combined_engsw"
   ]
  },
  {
   "cell_type": "markdown",
   "metadata": {},
   "source": [
    "#### 2.7 Exporting the combined dataset to csv file"
   ]
  },
  {
   "cell_type": "code",
   "execution_count": 40,
   "metadata": {},
   "outputs": [],
   "source": [
    "combined_engsw.to_csv(\"../dataset/ensw-final.csv\", index=False)"
   ]
  },
  {
   "cell_type": "code",
   "execution_count": 38,
   "metadata": {},
   "outputs": [
    {
     "data": {
      "text/plain": [
       "(8493, 2)"
      ]
     },
     "execution_count": 38,
     "metadata": {},
     "output_type": "execute_result"
    }
   ],
   "source": []
  },
  {
   "cell_type": "code",
   "execution_count": null,
   "metadata": {},
   "outputs": [],
   "source": []
  }
 ],
 "metadata": {
  "colab": {
   "provenance": []
  },
  "kernelspec": {
   "display_name": "Python 3 (ipykernel)",
   "language": "python",
   "name": "python3"
  },
  "language_info": {
   "codemirror_mode": {
    "name": "ipython",
    "version": 3
   },
   "file_extension": ".py",
   "mimetype": "text/x-python",
   "name": "python",
   "nbconvert_exporter": "python",
   "pygments_lexer": "ipython3",
   "version": "3.11.3"
  }
 },
 "nbformat": 4,
 "nbformat_minor": 1
}
