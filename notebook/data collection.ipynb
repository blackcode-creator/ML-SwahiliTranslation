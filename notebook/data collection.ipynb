{
 "cells": [
  {
   "cell_type": "markdown",
   "metadata": {
    "id": "hMm0DT29BgLN"
   },
   "source": [
    "#### 1.1 Importing necessary libraries"
   ]
  },
  {
   "cell_type": "code",
   "execution_count": 1,
   "metadata": {
    "id": "F6a3DJkXBnj8"
   },
   "outputs": [],
   "source": [
    "import pandas as pd"
   ]
  },
  {
   "cell_type": "markdown",
   "metadata": {
    "id": "kWA5kEmMq_yh"
   },
   "source": [
    "#### 1.2 Reading the TSV file"
   ]
  },
  {
   "cell_type": "code",
   "execution_count": 9,
   "metadata": {
    "id": "tIjQW7CrrK_V"
   },
   "outputs": [],
   "source": [
    "df = pd.read_csv('../dataset/envsw.tsv', sep=r'\\t', engine='python', header=None)"
   ]
  },
  {
   "cell_type": "markdown",
   "metadata": {
    "id": "rGlNHXJB8Qp1"
   },
   "source": [
    "#### 1.3 viewing the dataset"
   ]
  },
  {
   "cell_type": "code",
   "execution_count": 10,
   "metadata": {
    "colab": {
     "base_uri": "https://localhost:8080/",
     "height": 206
    },
    "id": "vbK9_Xfv2RCo",
    "outputId": "6e869b4b-8a8d-4314-c4aa-46ee3546ab34"
   },
   "outputs": [
    {
     "data": {
      "text/html": [
       "<div>\n",
       "<style scoped>\n",
       "    .dataframe tbody tr th:only-of-type {\n",
       "        vertical-align: middle;\n",
       "    }\n",
       "\n",
       "    .dataframe tbody tr th {\n",
       "        vertical-align: top;\n",
       "    }\n",
       "\n",
       "    .dataframe thead th {\n",
       "        text-align: right;\n",
       "    }\n",
       "</style>\n",
       "<table border=\"1\" class=\"dataframe\">\n",
       "  <thead>\n",
       "    <tr style=\"text-align: right;\">\n",
       "      <th></th>\n",
       "      <th>0</th>\n",
       "      <th>1</th>\n",
       "      <th>2</th>\n",
       "      <th>3</th>\n",
       "    </tr>\n",
       "  </thead>\n",
       "  <tbody>\n",
       "    <tr>\n",
       "      <th>0</th>\n",
       "      <td>1326</td>\n",
       "      <td>Are you sure?</td>\n",
       "      <td>3653235</td>\n",
       "      <td>Je, una uhakika?</td>\n",
       "    </tr>\n",
       "    <tr>\n",
       "      <th>1</th>\n",
       "      <td>1434</td>\n",
       "      <td>I love you.</td>\n",
       "      <td>369350</td>\n",
       "      <td>Nakupenda.</td>\n",
       "    </tr>\n",
       "    <tr>\n",
       "      <th>2</th>\n",
       "      <td>1631</td>\n",
       "      <td>This is my friend Rachel. We went to high scho...</td>\n",
       "      <td>3324344</td>\n",
       "      <td>Huyu ni rafiki yangu Rachel. Tulikwenda pamoja...</td>\n",
       "    </tr>\n",
       "    <tr>\n",
       "      <th>3</th>\n",
       "      <td>1712</td>\n",
       "      <td>I have a headache.</td>\n",
       "      <td>842637</td>\n",
       "      <td>Kichwa kinauma.</td>\n",
       "    </tr>\n",
       "    <tr>\n",
       "      <th>4</th>\n",
       "      <td>1775</td>\n",
       "      <td>Where there's a will, there's a way.</td>\n",
       "      <td>562906</td>\n",
       "      <td>Penye nia, pana njia.</td>\n",
       "    </tr>\n",
       "  </tbody>\n",
       "</table>\n",
       "</div>"
      ],
      "text/plain": [
       "      0                                                  1        2  \\\n",
       "0  1326                                      Are you sure?  3653235   \n",
       "1  1434                                        I love you.   369350   \n",
       "2  1631  This is my friend Rachel. We went to high scho...  3324344   \n",
       "3  1712                                 I have a headache.   842637   \n",
       "4  1775               Where there's a will, there's a way.   562906   \n",
       "\n",
       "                                                   3  \n",
       "0                                   Je, una uhakika?  \n",
       "1                                         Nakupenda.  \n",
       "2  Huyu ni rafiki yangu Rachel. Tulikwenda pamoja...  \n",
       "3                                    Kichwa kinauma.  \n",
       "4                              Penye nia, pana njia.  "
      ]
     },
     "execution_count": 10,
     "metadata": {},
     "output_type": "execute_result"
    }
   ],
   "source": [
    "df.head()"
   ]
  },
  {
   "cell_type": "markdown",
   "metadata": {
    "id": "_DwQt5T-EKEx"
   },
   "source": [
    "#### 1.4 Setting  header to the TSV file"
   ]
  },
  {
   "cell_type": "code",
   "execution_count": 11,
   "metadata": {
    "id": "nwUF9egkENpX"
   },
   "outputs": [],
   "source": [
    "df.columns = ['engIndex', 'English sentence', 'swIndex', 'Swahili Translation']"
   ]
  },
  {
   "cell_type": "markdown",
   "metadata": {},
   "source": [
    "#### 1.5 Viewing our dataset after adding columns"
   ]
  },
  {
   "cell_type": "code",
   "execution_count": 12,
   "metadata": {
    "colab": {
     "base_uri": "https://localhost:8080/",
     "height": 206
    },
    "id": "wzG_0lYAEidE",
    "outputId": "805d65af-a2fb-4f0c-e90b-dd5dbbc2ff37"
   },
   "outputs": [
    {
     "data": {
      "text/html": [
       "<div>\n",
       "<style scoped>\n",
       "    .dataframe tbody tr th:only-of-type {\n",
       "        vertical-align: middle;\n",
       "    }\n",
       "\n",
       "    .dataframe tbody tr th {\n",
       "        vertical-align: top;\n",
       "    }\n",
       "\n",
       "    .dataframe thead th {\n",
       "        text-align: right;\n",
       "    }\n",
       "</style>\n",
       "<table border=\"1\" class=\"dataframe\">\n",
       "  <thead>\n",
       "    <tr style=\"text-align: right;\">\n",
       "      <th></th>\n",
       "      <th>engIndex</th>\n",
       "      <th>English sentence</th>\n",
       "      <th>swIndex</th>\n",
       "      <th>Swahili Translation</th>\n",
       "    </tr>\n",
       "  </thead>\n",
       "  <tbody>\n",
       "    <tr>\n",
       "      <th>4348</th>\n",
       "      <td>8023644</td>\n",
       "      <td>That's Sasha's house. She's lived there for de...</td>\n",
       "      <td>10898662</td>\n",
       "      <td>Hiyo ni nyumba ya Sasha. Aliishi huko kwa mion...</td>\n",
       "    </tr>\n",
       "    <tr>\n",
       "      <th>4349</th>\n",
       "      <td>8603213</td>\n",
       "      <td>Persons of Anglo-Saxon or German origin are co...</td>\n",
       "      <td>10898776</td>\n",
       "      <td>Watu wenye asili ya Kianglo-Saxon au ya Kijeru...</td>\n",
       "    </tr>\n",
       "    <tr>\n",
       "      <th>4350</th>\n",
       "      <td>11483210</td>\n",
       "      <td>She decided to move to Belgium.</td>\n",
       "      <td>11490946</td>\n",
       "      <td>Aliamua kuhamia Ubelgiji.</td>\n",
       "    </tr>\n",
       "    <tr>\n",
       "      <th>4351</th>\n",
       "      <td>11475869</td>\n",
       "      <td>Do you watch the news?</td>\n",
       "      <td>11490948</td>\n",
       "      <td>Je, unatazama habari?</td>\n",
       "    </tr>\n",
       "    <tr>\n",
       "      <th>4352</th>\n",
       "      <td>4495519</td>\n",
       "      <td>Can you afford that?</td>\n",
       "      <td>11490949</td>\n",
       "      <td>Je, unaweza kumudu?</td>\n",
       "    </tr>\n",
       "  </tbody>\n",
       "</table>\n",
       "</div>"
      ],
      "text/plain": [
       "      engIndex                                   English sentence   swIndex  \\\n",
       "4348   8023644  That's Sasha's house. She's lived there for de...  10898662   \n",
       "4349   8603213  Persons of Anglo-Saxon or German origin are co...  10898776   \n",
       "4350  11483210                    She decided to move to Belgium.  11490946   \n",
       "4351  11475869                             Do you watch the news?  11490948   \n",
       "4352   4495519                               Can you afford that?  11490949   \n",
       "\n",
       "                                    Swahili Translation  \n",
       "4348  Hiyo ni nyumba ya Sasha. Aliishi huko kwa mion...  \n",
       "4349  Watu wenye asili ya Kianglo-Saxon au ya Kijeru...  \n",
       "4350                          Aliamua kuhamia Ubelgiji.  \n",
       "4351                              Je, unatazama habari?  \n",
       "4352                                Je, unaweza kumudu?  "
      ]
     },
     "execution_count": 12,
     "metadata": {},
     "output_type": "execute_result"
    }
   ],
   "source": [
    "df.tail()"
   ]
  },
  {
   "cell_type": "markdown",
   "metadata": {},
   "source": [
    "##### 1.6 Dropping the unnecessary columns"
   ]
  },
  {
   "cell_type": "code",
   "execution_count": 13,
   "metadata": {
    "id": "UVWqJ4D6Elg2"
   },
   "outputs": [],
   "source": [
    "df = df.drop(['swIndex', 'engIndex'], axis=1)"
   ]
  },
  {
   "cell_type": "markdown",
   "metadata": {},
   "source": [
    "##### 1.7 Viewing the dataset after dropping the columns"
   ]
  },
  {
   "cell_type": "code",
   "execution_count": 21,
   "metadata": {},
   "outputs": [
    {
     "data": {
      "text/html": [
       "<div>\n",
       "<style scoped>\n",
       "    .dataframe tbody tr th:only-of-type {\n",
       "        vertical-align: middle;\n",
       "    }\n",
       "\n",
       "    .dataframe tbody tr th {\n",
       "        vertical-align: top;\n",
       "    }\n",
       "\n",
       "    .dataframe thead th {\n",
       "        text-align: right;\n",
       "    }\n",
       "</style>\n",
       "<table border=\"1\" class=\"dataframe\">\n",
       "  <thead>\n",
       "    <tr style=\"text-align: right;\">\n",
       "      <th></th>\n",
       "      <th>English sentence</th>\n",
       "      <th>Swahili Translation</th>\n",
       "    </tr>\n",
       "  </thead>\n",
       "  <tbody>\n",
       "    <tr>\n",
       "      <th>0</th>\n",
       "      <td>Are you sure?</td>\n",
       "      <td>Je, una uhakika?</td>\n",
       "    </tr>\n",
       "    <tr>\n",
       "      <th>1</th>\n",
       "      <td>I love you.</td>\n",
       "      <td>Nakupenda.</td>\n",
       "    </tr>\n",
       "    <tr>\n",
       "      <th>2</th>\n",
       "      <td>This is my friend Rachel. We went to high scho...</td>\n",
       "      <td>Huyu ni rafiki yangu Rachel. Tulikwenda pamoja...</td>\n",
       "    </tr>\n",
       "    <tr>\n",
       "      <th>3</th>\n",
       "      <td>I have a headache.</td>\n",
       "      <td>Kichwa kinauma.</td>\n",
       "    </tr>\n",
       "    <tr>\n",
       "      <th>4</th>\n",
       "      <td>Where there's a will, there's a way.</td>\n",
       "      <td>Penye nia, pana njia.</td>\n",
       "    </tr>\n",
       "  </tbody>\n",
       "</table>\n",
       "</div>"
      ],
      "text/plain": [
       "                                    English sentence  \\\n",
       "0                                      Are you sure?   \n",
       "1                                        I love you.   \n",
       "2  This is my friend Rachel. We went to high scho...   \n",
       "3                                 I have a headache.   \n",
       "4               Where there's a will, there's a way.   \n",
       "\n",
       "                                 Swahili Translation  \n",
       "0                                   Je, una uhakika?  \n",
       "1                                         Nakupenda.  \n",
       "2  Huyu ni rafiki yangu Rachel. Tulikwenda pamoja...  \n",
       "3                                    Kichwa kinauma.  \n",
       "4                              Penye nia, pana njia.  "
      ]
     },
     "execution_count": 21,
     "metadata": {},
     "output_type": "execute_result"
    }
   ],
   "source": [
    "df.head()"
   ]
  },
  {
   "cell_type": "markdown",
   "metadata": {},
   "source": [
    "#### 1.8 Exporting the first version of our dataset"
   ]
  },
  {
   "cell_type": "code",
   "execution_count": 18,
   "metadata": {},
   "outputs": [],
   "source": [
    "df.to_csv(\"../dataset/ensw-v1.csv\", index=False)"
   ]
  },
  {
   "cell_type": "markdown",
   "metadata": {},
   "source": [
    "#### 1.9 Concatenate two files English.text and Kiswahili.text"
   ]
  },
  {
   "cell_type": "code",
   "execution_count": null,
   "metadata": {},
   "outputs": [],
   "source": []
  }
 ],
 "metadata": {
  "colab": {
   "provenance": []
  },
  "kernelspec": {
   "display_name": "Python 3 (ipykernel)",
   "language": "python",
   "name": "python3"
  },
  "language_info": {
   "codemirror_mode": {
    "name": "ipython",
    "version": 3
   },
   "file_extension": ".py",
   "mimetype": "text/x-python",
   "name": "python",
   "nbconvert_exporter": "python",
   "pygments_lexer": "ipython3",
   "version": "3.11.3"
  }
 },
 "nbformat": 4,
 "nbformat_minor": 1
}
